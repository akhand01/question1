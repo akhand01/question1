{
 "cells": [
  {
   "cell_type": "markdown",
   "metadata": {},
   "source": [
    "# Question:1 Check if the given point lies inside or outside a polygon(python)"
   ]
  },
  {
   "cell_type": "code",
   "execution_count": 20,
   "metadata": {},
   "outputs": [],
   "source": [
    "def point_in_polygon(x,y,polygon):\n",
    "\n",
    "    n = len(polygon)\n",
    "    inside =False\n",
    "\n",
    "    x1,y1 = poly[0]\n",
    "    for i in range(n+1):\n",
    "        x2,y2 = poly[i % n]\n",
    "        if y > min(y1,y2):\n",
    "            if y <= max(y1,y2):\n",
    "                if x <= max(x1,x2):\n",
    "                    if y1 != y2:\n",
    "                        xinters = (y-y1)*(x2-x1)/(y2-y1)+x1\n",
    "                    if x1 == x2 or x <= xinters:\n",
    "                        inside = not inside\n",
    "        x1,y1 = x2,y2\n",
    "\n",
    "    return inside\n"
   ]
  },
  {
   "cell_type": "code",
   "execution_count": null,
   "metadata": {},
   "outputs": [],
   "source": []
  },
  {
   "cell_type": "code",
   "execution_count": 21,
   "metadata": {},
   "outputs": [
    {
     "data": {
      "text/plain": [
       "True"
      ]
     },
     "execution_count": 21,
     "metadata": {},
     "output_type": "execute_result"
    }
   ],
   "source": [
    "#CASE-1\n",
    "poly=[[1,0],[8,3],[8,8],[1,5]]\n",
    "point_in_polygon(3,5,poly)"
   ]
  },
  {
   "cell_type": "code",
   "execution_count": 23,
   "metadata": {},
   "outputs": [
    {
     "data": {
      "text/plain": [
       "False"
      ]
     },
     "execution_count": 23,
     "metadata": {},
     "output_type": "execute_result"
    }
   ],
   "source": [
    "#CASE-2\n",
    "poly=[[-3,2],[-2,-0.8],[0,1.2],[2.2,0],[2,4.5]]\n",
    "point_in_polygon(0,0,poly)"
   ]
  }
 ],
 "metadata": {
  "kernelspec": {
   "display_name": "Python 3",
   "language": "python",
   "name": "python3"
  },
  "language_info": {
   "codemirror_mode": {
    "name": "ipython",
    "version": 3
   },
   "file_extension": ".py",
   "mimetype": "text/x-python",
   "name": "python",
   "nbconvert_exporter": "python",
   "pygments_lexer": "ipython3",
   "version": "3.7.6"
  }
 },
 "nbformat": 4,
 "nbformat_minor": 4
}
